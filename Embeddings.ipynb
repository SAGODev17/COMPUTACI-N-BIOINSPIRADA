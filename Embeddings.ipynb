{
  "nbformat": 4,
  "nbformat_minor": 0,
  "metadata": {
    "colab": {
      "provenance": [],
      "include_colab_link": true
    },
    "kernelspec": {
      "name": "python3",
      "display_name": "Python 3"
    },
    "language_info": {
      "name": "python"
    }
  },
  "cells": [
    {
      "cell_type": "markdown",
      "metadata": {
        "id": "view-in-github",
        "colab_type": "text"
      },
      "source": [
        "<a href=\"https://colab.research.google.com/github/SAGODev17/COMPUTACI-N-BIOINSPIRADA/blob/main/Embeddings.ipynb\" target=\"_parent\"><img src=\"https://colab.research.google.com/assets/colab-badge.svg\" alt=\"Open In Colab\"/></a>"
      ]
    },
    {
      "cell_type": "markdown",
      "source": [
        "\n",
        "\n",
        "##🧮 Embeddings\n",
        "Un embedding convierte un texto en un vector numérico (lista de floats) que captura su significado semántico. Esto permite comparar textos, hacer búsquedas semánticas, clustering, clasificación, etc.\n"
      ],
      "metadata": {
        "id": "5JUNmAQ9YRky"
      }
    },
    {
      "cell_type": "markdown",
      "source": [
        "## 🧠 Funcionamiento de los Embeddings\n",
        "\n",
        "## 📋 Proceso Principal\n",
        "\n",
        "```\n",
        "📝 TEXTO DE ENTRADA\n",
        "\"El gato está muy feliz\"\n",
        "          ⬇️\n",
        "🔧 PREPROCESAMIENTO\n",
        "Limpieza • Normalización • Minúsculas\n",
        "          ⬇️\n",
        "✂️ TOKENIZACIÓN  \n",
        "[\"el\", \"gato\", \"está\", \"muy\", \"feliz\"]\n",
        "          ⬇️\n",
        "🤖 MODELO DE EMBEDDING\n",
        "BERT | Word2Vec | OpenAI | Sentence-BERT\n",
        "          ⬇️\n",
        "📊 VECTOR NUMÉRICO\n",
        "[0.2, -0.5, 0.8, 0.1, ..., 0.3]\n",
        "Dimensiones: 50-4096\n",
        "          ⬇️\n",
        "💾 BASE DE DATOS DE VECTORES\n",
        "Almacenamiento para búsquedas futuras\n",
        "          ⬇️\n",
        "🎯 APLICACIONES\n",
        "```\n",
        "\n",
        "---\n",
        "\n",
        "## 💡 Puntos Clave\n",
        "\n",
        "> **🎯 Idea Principal**: Los embeddings convierten texto en números que preservan el significado, permitiendo operaciones matemáticas con lenguaje natural.\n",
        "\n",
        "### ✅ **Ventajas**\n",
        "- Capturan relaciones semánticas\n",
        "- Permiten búsquedas por significado\n",
        "- Funcionan con algoritmos de ML\n",
        "- Escalan a grandes volúmenes\n",
        "\n",
        "### ⚠️ **Consideraciones**\n",
        "- Requieren gran cantidad de datos\n",
        "- Los modelos son específicos al dominio\n",
        "- Pueden tener sesgos del entrenamiento\n",
        "- Dimensionalidad alta = más recursos\n"
      ],
      "metadata": {
        "id": "umLTPQnPWpoT"
      }
    },
    {
      "cell_type": "markdown",
      "source": [
        "## 🚀 Aplicaciones Principales\n",
        "\n",
        "### 🔍 **Búsqueda por Similitud**\n",
        "```\n",
        "Vector Consulta → Comparar → Calcular Similitud → Resultados Ordenados\n",
        "                    ↓\n",
        "            Base de Vectores\n",
        "```\n",
        "\n",
        "### 🏷️ **Clasificación**\n",
        "```\n",
        "Vector Embedding → Red Neuronal → Categoría Predicha\n",
        "```\n",
        "\n",
        "### 🔗 **Clustering**\n",
        "```\n",
        "Múltiples Vectores → Algoritmo Agrupamiento → Grupos Temáticos\n",
        "                        (K-means, DBSCAN)\n",
        "```\n",
        "\n",
        "### 💡 **Recomendaciones**\n",
        "```\n",
        "Vector Usuario → Buscar Similares → Filtrar → Items Recomendados\n",
        "```\n",
        "\n",
        "---\n",
        "\n",
        "\n",
        "## 🛠️ Modelos Populares\n",
        "\n",
        "| `task_type`             | ¿Cuándo usarlo?                                                                                               | Algoritmos típicos usados                      |\n",
        "| ----------------------- | ------------------------------------------------------------------------------------------------------------- | ---------------------------------------------- |\n",
        "| `\"retrieval_document\"`  | Cuando el texto será almacenado para luego hacerle búsqueda (indexación).                                     | `FAISS`, `pgvector`, `Annoy`, `ScaNN`          |\n",
        "| `\"retrieval_query\"`     | Cuando el texto es una **consulta del usuario** que se usará para buscar en documentos previamente embebidos. | `Cosine similarity`, `dot-product search`      |\n",
        "| `\"semantic_similarity\"` | Cuando quieres comparar dos textos y ver qué tan **semánticamente similares** son.                            | `Cosine similarity`, `Euclidean distance`      |\n",
        "| `\"classification\"`      | Cuando usas embeddings como entrada para un **modelo de clasificación supervisada**.                          | `LogisticRegression`, `SVM`, `XGBoost`, `NN`   |\n",
        "| `\"clustering\"`          | Cuando planeas **agrupar textos similares** sin etiquetas.                                                    | `KMeans`, `DBSCAN`, `HDBSCAN`, `t-SNE`, `UMAP` |\n",
        "\n",
        "---\n",
        "\n",
        "## 📊 Ejemplo Visual\n",
        "\n",
        "### Similitud entre Palabras\n",
        "```\n",
        "    Animales        Vehículos       Emociones\n",
        "      🐱              🚗             😊\n",
        "   \"gato\"           \"auto\"         \"feliz\"\n",
        "      🐶              🚲             😢  \n",
        "   \"perro\"        \"bicicleta\"     \"triste\"\n",
        "\n",
        "Distancia en el espacio vectorial:\n",
        "• gato ↔ perro = 0.85 (MUY similar)\n",
        "• gato ↔ auto = 0.12 (poco similar)\n",
        "• feliz ↔ triste = 0.23 (opuestos)\n",
        "```\n",
        "\n",
        "---\n",
        "\n",
        "## 🔢 Cálculo de Similitud\n",
        "\n",
        "### Similitud Coseno\n",
        "```python\n",
        "import numpy as np\n",
        "\n",
        "# Vectores ejemplo (simplificado a 4 dimensiones)\n",
        "gato = [0.2, -0.5, 0.8, 0.1]\n",
        "perro = [0.3, -0.4, 0.7, 0.2]\n",
        "\n",
        "# Fórmula: cos(θ) = (A·B) / (|A|×|B|)\n",
        "similitud = np.dot(gato, perro) / (np.linalg.norm(gato) * np.linalg.norm(perro))\n",
        "print(f\"Similitud: {similitud:.3f}\")  # → 0.891 (muy similar)\n",
        "```\n",
        "\n",
        "---\n",
        "\n",
        "## 🎯 Casos de Uso Reales\n",
        "\n",
        "### 1. **Búsqueda Semántica**\n",
        "```\n",
        "Consulta: \"mascotas peludas\"\n",
        "    ⬇️\n",
        "[0.4, -0.2, 0.9, ...]\n",
        "    ⬇️\n",
        "Buscar vectores similares\n",
        "    ⬇️\n",
        "Resultados: \"gatos\", \"perros\", \"conejos\"\n",
        "```\n",
        "\n",
        "### 2. **Clasificación de Sentimientos**\n",
        "```\n",
        "Texto: \"Me encanta este producto\"\n",
        "    ⬇️\n",
        "Vector: [0.8, 0.3, -0.1, ...]\n",
        "    ⬇️\n",
        "Red Neuronal\n",
        "    ⬇️\n",
        "Resultado: POSITIVO (95% confianza)\n",
        "```\n",
        "\n",
        "### 3. **Sistema de Recomendación**\n",
        "```\n",
        "Usuario le gusta: \"Harry Potter\"\n",
        "    ⬇️\n",
        "Vector libro: [0.5, -0.3, 0.7, ...]\n",
        "    ⬇️\n",
        "Buscar libros similares\n",
        "    ⬇️\n",
        "Recomendar: \"El Señor de los Anillos\"\n",
        "```\n",
        "\n",
        "---"
      ],
      "metadata": {
        "id": "jc-4VNJBZP3Y"
      }
    },
    {
      "cell_type": "markdown",
      "source": [
        "## 🔧 Implementación Rápida"
      ],
      "metadata": {
        "id": "eop16nSVXuaZ"
      }
    },
    {
      "cell_type": "code",
      "execution_count": null,
      "metadata": {
        "id": "xth3GnWSR00j"
      },
      "outputs": [],
      "source": [
        "!pip install -q google-generativeai"
      ]
    },
    {
      "cell_type": "code",
      "source": [
        "import google.generativeai as genai\n",
        "from google.colab import userdata"
      ],
      "metadata": {
        "id": "xXTU16mER4oN"
      },
      "execution_count": null,
      "outputs": []
    },
    {
      "cell_type": "code",
      "source": [
        "# Configura tu API Key directamente (quemada)\n",
        "genai.configure(api_key=userdata.get('api_key'))"
      ],
      "metadata": {
        "id": "vXqqJvcjR6uB"
      },
      "execution_count": null,
      "outputs": []
    },
    {
      "cell_type": "code",
      "source": [
        "# Obtener el modelo de embeddings\n",
        "model = genai.get_model(\"models/embedding-001\")"
      ],
      "metadata": {
        "id": "UK9P7PtTS1k0"
      },
      "execution_count": null,
      "outputs": []
    },
    {
      "cell_type": "code",
      "source": [
        "\n",
        "# Texto de ejemplo\n",
        "texto = \"Este es un texto de ejemplo para probar Gemini Embeddings.\""
      ],
      "metadata": {
        "id": "2AOKY-YaTAJ4"
      },
      "execution_count": null,
      "outputs": []
    },
    {
      "cell_type": "code",
      "source": [
        "response = genai.embed_content(\n",
        "    model=\"models/embedding-001\",\n",
        "    content=texto,\n",
        "    task_type=\"retrieval_document\"  # Puedes cambiar según tu caso de uso\n",
        ")"
      ],
      "metadata": {
        "id": "5SXaCtKCS55s"
      },
      "execution_count": null,
      "outputs": []
    },
    {
      "cell_type": "code",
      "source": [
        "# Obtener el vector\n",
        "embedding = response['embedding']"
      ],
      "metadata": {
        "id": "CbyQgtd5TEaX"
      },
      "execution_count": null,
      "outputs": []
    },
    {
      "cell_type": "code",
      "source": [
        "\n",
        "# Mostrar los resultados\n",
        "print(f\"✅ Longitud del vector: {len(embedding)} dimensiones\")\n",
        "print(\"🔹 Primeras 10 dimensiones:\", embedding[:10])\n"
      ],
      "metadata": {
        "colab": {
          "base_uri": "https://localhost:8080/"
        },
        "id": "j85HAygoTH2B",
        "outputId": "b17535fa-0187-4f11-a2c6-73e6bd0224df"
      },
      "execution_count": null,
      "outputs": [
        {
          "output_type": "stream",
          "name": "stdout",
          "text": [
            "✅ Longitud del vector: 768 dimensiones\n",
            "🔹 Primeras 10 dimensiones: [0.035021175, -0.012195336, -0.057214644, 0.023686739, 0.05417177, 0.0070224833, -0.007199279, -0.0465323, 0.0009668815, 0.055569224]\n"
          ]
        }
      ]
    },
    {
      "cell_type": "markdown",
      "source": [
        "## 📚 Recursos Adicionales\n",
        "\n",
        "- **OpenAI Embeddings**: `text-embedding-ada-002`\n",
        "- **Hugging Face**: Miles de modelos pre-entrenados\n",
        "- **Sentence Transformers**: Fácil de usar para embeddings de oraciones\n",
        "- **FAISS/Pinecone**: Bases de datos vectoriales para búsqueda rápida\n",
        "\n",
        "---\n",
        "\n",
        "*💡 **Tip**: Empieza con modelos pequeños como `all-MiniLM-L6-v2` para prototipos rápidos, luego escala a modelos más grandes según necesites mejor precisión.*"
      ],
      "metadata": {
        "id": "qJj5qEgsXaAq"
      }
    }
  ]
}